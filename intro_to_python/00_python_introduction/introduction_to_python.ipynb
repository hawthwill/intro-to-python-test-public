{
 "cells": [
  {
   "cell_type": "markdown",
   "metadata": {
    "slideshow": {
     "slide_type": "slide"
    }
   },
   "source": [
    "<img src=\"../../shared/img/UKRI_STFC_HARTREE_CENTRE_RGB.png\" width=\"50%\" align=\"left\">"
   ]
  },
  {
   "cell_type": "markdown",
   "metadata": {},
   "source": [
    "### INTELLECTUAL PROPERTY RIGHTS NOTICE:\n",
    "The User may only download, make and retain a copy of the materials for their use for non-commercial and research purposes. If you intend to use the materials for secondary teaching purposes it is necessary first to obtain permission.\n",
    "The User may not commercially use the material, unless a prior written consent by the Licensor has been granted to do so. In any case, the user cannot remove, obscure or modify copyright notices, text acknowledging or other means of identification or disclaimers as they appear.\n",
    "For further details, please email us:  hartreetraining@stfc.a.c.uk"
   ]
  },
  {
   "cell_type": "markdown",
   "metadata": {
    "slideshow": {
     "slide_type": "fragment"
    }
   },
   "source": [
    "-----------------------------------\n",
    "# Introduction to Python\n",
    "\n",
    "This notebook gives an overview of the main constructs of Python in order to provide enough knowledge for the user to start coding hands on."
   ]
  },
  {
   "cell_type": "markdown",
   "metadata": {
    "slideshow": {
     "slide_type": "skip"
    }
   },
   "source": [
    "<div class=\"alert alert-info\"> \n",
    "Notebook instructions:\n",
    "<ol>\n",
    "    <li>To edit a cell, double click on it.\n",
    "    <li>You can change a cell from markdown (text) to code using the drop down box at the top of this page.</li><br>\n",
    "        <img src=\"../../shared/img/jupyter_header.png\" width=\"50%\" align=\"center\"><br><br>\n",
    "    <li>To run a cell, press Ctrl and Enter or the play icon in the toolbar at the top of this page.</li>\n",
    "    <li>Please ensure you run the import statements cell immediately below these instructions before beginning with any exercise.</li>\n",
    "    <li> If you make an error and have run your code, it is best to restart your notebook and run the cells again. Click the refresh icon in the jupyter toolbar and then 'Cell'>'Run all above' before running your corrected code again.</li>\n",
    "    </ol>\n",
    "</div>"
   ]
  },
  {
   "cell_type": "markdown",
   "metadata": {
    "slideshow": {
     "slide_type": "slide"
    }
   },
   "source": [
    "## Why python\n",
    "\n",
    "* Free, well-documented, and runs almost everywhere;\n",
    "* A large (and growing) user base among scientists; and\n",
    "* Easier for novices to pick up than most other languages."
   ]
  },
  {
   "cell_type": "markdown",
   "metadata": {
    "slideshow": {
     "slide_type": "slide"
    }
   },
   "source": [
    "## Variables\n",
    "\n",
    "* No need to declare\n",
    "* Need to initialize as use of uninitialized variable raises exception\n",
    "* Everything is a \"variable\": even functions, classes, modules"
   ]
  },
  {
   "cell_type": "markdown",
   "metadata": {},
   "source": [
    "## Basic types: Numbers\n",
    "\n",
    "### Four distinct numeric types\n",
    "* integers (booleans are a subtype of plain integers);\n",
    "* Floating point numbers;\n",
    "* Complex numbers."
   ]
  },
  {
   "cell_type": "markdown",
   "metadata": {
    "tags": []
   },
   "source": [
    "### Operations on numbers\n",
    "\n",
    "`x + y # sum of x and y`\n",
    "\n",
    "`x - y # difference of x and y`\n",
    "\n",
    "`x * y # product of x and y`\n",
    "\n",
    "`x / y # quotient of x and y`\n",
    "\n",
    "`x % y # remainder of x / y`\n",
    "\n",
    "`-x     # negated`\n",
    "\n",
    "`+x     # x unchanged`\n",
    "\n",
    "`abs(x) # absolute value or magnitude of x`\n",
    "\n",
    "`int(x) # x converted to integer`\n",
    "\n",
    "`float(x)  # x converted to floating point`"
   ]
  },
  {
   "cell_type": "code",
   "execution_count": null,
   "metadata": {
    "slideshow": {
     "slide_type": "subslide"
    }
   },
   "outputs": [],
   "source": [
    "x = 0\n",
    "y = 4\n",
    "z = 4.5\n",
    "\n",
    "x * y + z"
   ]
  },
  {
   "cell_type": "code",
   "execution_count": null,
   "metadata": {
    "slideshow": {
     "slide_type": "subslide"
    }
   },
   "outputs": [],
   "source": [
    "### Basic types: Strings\n",
    "\"hello\"+\"world\"   # 'helloworld' (concatenation)\n",
    "\"hello\"*3         # 'hellohellohello' (repetition)\n",
    "\"hello\"[0]        # 'h' (indexing)\n",
    "\"hello\"[-1]       # 'o' (from end)\n",
    "\"hello\"[1:4]      # 'ell' (slicing)\n",
    "len(\"hello\")      # 5 (size)\n",
    "\"hello\" < \"jello\" # True (comparison)\n",
    "\"e\" in \"hello\"    # True (search)"
   ]
  },
  {
   "cell_type": "code",
   "execution_count": null,
   "metadata": {
    "slideshow": {
     "slide_type": "subslide"
    }
   },
   "outputs": [],
   "source": [
    "### Printing and formatting\n",
    "print('single quotes', \"double quotes\", \"\"\"triple quotes\"\"\")\n",
    "print(\"Formatted number: {0:3.3f}\".format(1))"
   ]
  },
  {
   "cell_type": "markdown",
   "metadata": {
    "slideshow": {
     "slide_type": "slide"
    }
   },
   "source": [
    "## Container types\n",
    "### Lists\n",
    "* Flexible arrays\n",
    "\n",
    "`a = [99, \"bottles of beer\", [\"on\", \"the\", \"wall\"]]`\n",
    "* Same operators as for strings\n",
    "\n",
    "`a+b, a*3, a[0], a[-1], a[1:], len(a)`\n",
    "* Item and slice assignment\n",
    "\n",
    "`a[0] = 98`\n",
    "\n",
    "`a[1:2] = [\"bottles\", \"of\", \"beer\"] # [98, \"bottles\", \"of\", \"beer\", [\"on\", \"the\", \"wall\"]]`\n",
    "\n",
    "`del a[-1]\t# [98, \"bottles\", \"of\", \"beer\"]`"
   ]
  },
  {
   "cell_type": "code",
   "execution_count": null,
   "metadata": {
    "slideshow": {
     "slide_type": "subslide"
    }
   },
   "outputs": [],
   "source": [
    "a = list(range(5))\n",
    "print(a)"
   ]
  },
  {
   "cell_type": "code",
   "execution_count": null,
   "metadata": {
    "slideshow": {
     "slide_type": "subslide"
    }
   },
   "outputs": [],
   "source": [
    "a.append(5)\n",
    "print(a)"
   ]
  },
  {
   "cell_type": "code",
   "execution_count": null,
   "metadata": {},
   "outputs": [],
   "source": [
    "a.pop()\n",
    "print(a)"
   ]
  },
  {
   "cell_type": "code",
   "execution_count": null,
   "metadata": {},
   "outputs": [],
   "source": [
    "a.insert(0, 42)\n",
    "print(a)"
   ]
  },
  {
   "cell_type": "code",
   "execution_count": null,
   "metadata": {},
   "outputs": [],
   "source": [
    "a.pop(0)\n",
    "print(a)"
   ]
  },
  {
   "cell_type": "code",
   "execution_count": null,
   "metadata": {},
   "outputs": [],
   "source": [
    "a.reverse()\n",
    "print(a)"
   ]
  },
  {
   "cell_type": "code",
   "execution_count": null,
   "metadata": {},
   "outputs": [],
   "source": [
    "a.sort()\n",
    "print(a)"
   ]
  },
  {
   "cell_type": "markdown",
   "metadata": {},
   "source": [
    "### Dictionaries\n",
    "* Hash tables, \"associative arrays\"\n",
    "\n",
    "`d = {\"colour\":\"yellow\", \"weight\":\"10\"}`\n",
    "\n",
    "`{\"name\":\"John\", \"age\":39, (\"tuple\",\"key\"):2, 3:\"yes\", \"flag\": [\"yellow\",\"green\",\"orange\"]}`\n",
    "* Lookup:\n",
    "\n",
    "`d[\"colour\"] # \"yellow\"`\n",
    "\n",
    "`d[\"height\"] # raises KeyError exception`"
   ]
  },
  {
   "cell_type": "markdown",
   "metadata": {
    "slideshow": {
     "slide_type": "subslide"
    }
   },
   "source": [
    "\n",
    "* Delete, insert, overwrite:\n",
    "\n",
    "`del d[\"weight\"] # {\"colour\":\"yellow\"}`\n",
    "\n",
    "`d[\"shape\"] = \"round\" # {\"colour\":\"yellow\", \"shape\":\"round\"}`\n",
    "\n",
    "`d[\"colour\"] = \"red\" # {\"colour\":\"red\", \"shape\":\"round\"}`\n",
    "* Keys, values, items:\n",
    "\n",
    "Keys must be immuatable, and must not be lists or other dictionaries, and will be listed in arbitrary order.\n",
    "\n",
    "`d.keys() # [\"shape\", \"colour\"]`\n",
    "\n",
    "`d.values() # [\"round\", \"red\"]`\n",
    "\n",
    "`d.items() # [(\"colour\",\"red\"), (\"shape\",\"round\")]`\n",
    "* Presence check:\n",
    "\n",
    "`d.has_key(\"colour\") # 1`\n",
    "\n",
    "`d.has_key(\"height\") # 0`"
   ]
  },
  {
   "cell_type": "markdown",
   "metadata": {
    "slideshow": {
     "slide_type": "slide"
    }
   },
   "source": [
    "\n",
    "### Tuples\n",
    "\n",
    "* `key = (name, surname)`\n",
    "* `point = x, y, z\t # parentheses optional`\n",
    "* `a, b, c = point   # unpack`\n",
    "* `name = key[0]`\n",
    "* `empty = ()\t\t # parentheses!`\n",
    "* `tuples vs. lists; tuples immutable`"
   ]
  },
  {
   "cell_type": "markdown",
   "metadata": {
    "slideshow": {
     "slide_type": "slide"
    }
   },
   "source": [
    "## Assignment\n",
    "* `x = y` does not make a copy of y\n",
    "* `x = y` makes x reference the object y references !!"
   ]
  },
  {
   "cell_type": "code",
   "execution_count": null,
   "metadata": {
    "slideshow": {
     "slide_type": "subslide"
    }
   },
   "outputs": [],
   "source": [
    "y = [1, 2, 3]\n",
    "x = y\n",
    "y.append(4)\n",
    "print(x)"
   ]
  },
  {
   "cell_type": "markdown",
   "metadata": {
    "slideshow": {
     "slide_type": "slide"
    }
   },
   "source": [
    "## Control structures \n",
    "\n",
    "We can use 'if', 'while' and 'for' loops."
   ]
  },
  {
   "cell_type": "code",
   "execution_count": null,
   "metadata": {
    "slideshow": {
     "slide_type": "subslide"
    }
   },
   "outputs": [],
   "source": [
    "# If statements\n",
    "a = 5\n",
    "if a < 7:\n",
    "    print(\"a < 7\")\n",
    "elif a < 10:\n",
    "    print(\"7 <= a < 10\")\n",
    "else:\n",
    "    print(\"a >= 10\")"
   ]
  },
  {
   "cell_type": "code",
   "execution_count": null,
   "metadata": {
    "slideshow": {
     "slide_type": "subslide"
    }
   },
   "outputs": [],
   "source": [
    "# While loops\n",
    "while a < 7:\n",
    "    a = a+1\n",
    "    print(a)\n"
   ]
  },
  {
   "cell_type": "code",
   "execution_count": null,
   "metadata": {
    "slideshow": {
     "slide_type": "subslide"
    }
   },
   "outputs": [],
   "source": [
    "# For loops and range function\n",
    "var_list = range(5)\n",
    "\n",
    "for var in var_list:\n",
    "    print(var)"
   ]
  },
  {
   "cell_type": "code",
   "execution_count": null,
   "metadata": {
    "slideshow": {
     "slide_type": "subslide"
    }
   },
   "outputs": [],
   "source": [
    "for var in var_list:\n",
    "    print(var*2)"
   ]
  },
  {
   "cell_type": "markdown",
   "metadata": {
    "slideshow": {
     "slide_type": "slide"
    }
   },
   "source": [
    "## Functions\n",
    "    def function_name(arg1, arg2, ...):\n",
    "        statements\n",
    "        return expression\n"
   ]
  },
  {
   "cell_type": "code",
   "execution_count": null,
   "metadata": {
    "slideshow": {
     "slide_type": "subslide"
    }
   },
   "outputs": [],
   "source": [
    "def add_numbers(x, y):\n",
    "    return x + y\n",
    "print(add_numbers(1, 2))"
   ]
  },
  {
   "cell_type": "code",
   "execution_count": null,
   "metadata": {
    "slideshow": {
     "slide_type": "subslide"
    }
   },
   "outputs": [],
   "source": [
    "def add_numbers(x,y,z=None):\n",
    "    if (z==None):\n",
    "        return x+y\n",
    "    else:\n",
    "        return x+y+z\n",
    "\n",
    "print(add_numbers(1, 2))"
   ]
  },
  {
   "cell_type": "code",
   "execution_count": null,
   "metadata": {
    "slideshow": {
     "slide_type": "subslide"
    }
   },
   "outputs": [],
   "source": [
    "print(add_numbers(1, 2, 3))"
   ]
  },
  {
   "cell_type": "code",
   "execution_count": null,
   "metadata": {
    "slideshow": {
     "slide_type": "subslide"
    }
   },
   "outputs": [],
   "source": [
    "# Assign function add_numbers to variable a\n",
    "a = add_numbers\n",
    "a(1,2)"
   ]
  },
  {
   "cell_type": "markdown",
   "metadata": {
    "slideshow": {
     "slide_type": "slide"
    }
   },
   "source": [
    "## Assertions\n",
    "\n",
    "To check something is behaving as expected!"
   ]
  },
  {
   "cell_type": "code",
   "execution_count": null,
   "metadata": {
    "slideshow": {
     "slide_type": "subslide"
    }
   },
   "outputs": [],
   "source": [
    "x = 1\n",
    "x = 2\n",
    "y = 2\n",
    "\n",
    "assert x == 2, \"x is not equal to 2!\""
   ]
  },
  {
   "cell_type": "code",
   "execution_count": null,
   "metadata": {
    "slideshow": {
     "slide_type": "subslide"
    }
   },
   "outputs": [],
   "source": [
    "assert y == 1, \"y is not equal to 1\""
   ]
  },
  {
   "cell_type": "markdown",
   "metadata": {
    "slideshow": {
     "slide_type": "slide"
    }
   },
   "source": [
    "## Plotting images\n",
    "When using a Jupyter notebook, the following command needs to be executed in order for (matplotlib) images to appear in the notebook when show() is called:\n",
    "\n",
    "`%matplotlib inline`\n",
    "\n",
    "The % indicates an IPython magic function - a function that is only valid within the notebook environment. Note that you only have to execute this function once per notebook."
   ]
  },
  {
   "cell_type": "code",
   "execution_count": null,
   "metadata": {
    "slideshow": {
     "slide_type": "subslide"
    }
   },
   "outputs": [],
   "source": [
    "%matplotlib inline\n",
    "import matplotlib.pyplot as plt\n",
    "plt.plot(2, 2)"
   ]
  },
  {
   "cell_type": "code",
   "execution_count": null,
   "metadata": {
    "slideshow": {
     "slide_type": "subslide"
    }
   },
   "outputs": [],
   "source": [
    "# plot the point (2, 2) using the circle marker\n",
    "plt.plot(2, 2, 'o')"
   ]
  },
  {
   "cell_type": "code",
   "execution_count": null,
   "metadata": {
    "slideshow": {
     "slide_type": "subslide"
    }
   },
   "outputs": [],
   "source": [
    "plt.xlim([0,6])\n",
    "plt.ylim([0,10])\n",
    "plt.show()"
   ]
  },
  {
   "cell_type": "code",
   "execution_count": null,
   "metadata": {
    "slideshow": {
     "slide_type": "subslide"
    }
   },
   "outputs": [],
   "source": [
    "# Scatter plots\n",
    "x = [1,2,3,4,5,6,7,8]\n",
    "y = x\n",
    "\n",
    "#plt.scatter(x, y)\n",
    "colours = ['green']*(len(x)-1)\n",
    "colours.append('red')\n",
    "plt.scatter(x, y, c=colours)\n",
    "plt.show()"
   ]
  },
  {
   "cell_type": "code",
   "execution_count": null,
   "metadata": {
    "slideshow": {
     "slide_type": "subslide"
    }
   },
   "outputs": [],
   "source": [
    "plt.scatter(x[:2], y[:2], s=100, c=\"r\", label=\"day\")\n",
    "plt.scatter(x[2:], y[2:], s=100, c=\"b\", label=\"night\")\n",
    "# add a label to the x axis\n",
    "plt.xlabel('The number of times it rained')\n",
    "# add a label to the y axis\n",
    "plt.ylabel('The number of flooded houses')\n",
    "# add a title\n",
    "plt.title('Relationship between rain and flooding')\n",
    "\n",
    "plt.legend(loc=2)\n",
    "plt.show()"
   ]
  },
  {
   "cell_type": "code",
   "execution_count": null,
   "metadata": {
    "slideshow": {
     "slide_type": "subslide"
    }
   },
   "outputs": [],
   "source": [
    "# Line plots\n",
    "linear_data = [1,2,3,4,5,6,7,8]\n",
    "exponential_data = [i**2 for i in linear_data]\n",
    "\n",
    "plt.figure()\n",
    "# plot the linear data and the exponential data\n",
    "plt.plot(linear_data, '-o', exponential_data, '-o')\n",
    "plt.show()"
   ]
  },
  {
   "cell_type": "code",
   "execution_count": null,
   "metadata": {
    "slideshow": {
     "slide_type": "subslide"
    }
   },
   "outputs": [],
   "source": [
    "# Bar charts\n",
    "xvals = range(len(linear_data))\n",
    "plt.bar(xvals, linear_data, width = 0.3)\n",
    "new_xvals = []\n",
    "\n",
    "# plot another set of bars, adjusting the new xvals to make up for the first set of bars plotted\n",
    "for item in xvals:\n",
    "    new_xvals.append(item+0.3)\n",
    "\n",
    "plt.bar(new_xvals, exponential_data, width = 0.3 ,color='red')\n",
    "plt.show()"
   ]
  },
  {
   "cell_type": "code",
   "execution_count": null,
   "metadata": {
    "slideshow": {
     "slide_type": "subslide"
    }
   },
   "outputs": [],
   "source": [
    "# stacked bar charts are also possible\n",
    "plt.figure()\n",
    "xvals = range(len(linear_data))\n",
    "plt.bar(xvals, linear_data, width = 0.3, color='b')\n",
    "plt.bar(xvals, exponential_data, width = 0.3, bottom=linear_data, color='r')\n",
    "plt.show()"
   ]
  },
  {
   "cell_type": "markdown",
   "metadata": {
    "slideshow": {
     "slide_type": "subslide"
    }
   },
   "source": [
    "You will notice throughout our notebooks we like to use plotly, which is another useful plotting tool that allows for interactive visualisation. This is very similar to matplotlib.pyplot but requires a little bit more information as part of the arguments.\n",
    "\n",
    "For instance, to plot the above bar graph.\n",
    "\n",
    "However, this package doesn't work in a slideshow!"
   ]
  },
  {
   "cell_type": "code",
   "execution_count": null,
   "metadata": {
    "slideshow": {
     "slide_type": "subslide"
    }
   },
   "outputs": [],
   "source": [
    "import plotly.graph_objects as go\n",
    "\n",
    "fig = go.Figure(data=[\n",
    "    go.Bar(name='Linear', x=list(xvals), y=linear_data),\n",
    "    go.Bar(name='Exponential', x=list(xvals), y=exponential_data)\n",
    "])\n",
    "fig.update_layout(barmode='stack')\n",
    "fig.show()"
   ]
  },
  {
   "cell_type": "markdown",
   "metadata": {
    "slideshow": {
     "slide_type": "slide"
    }
   },
   "source": [
    "## Further reading\n",
    "\n",
    "For more information on the topics covered here:\n",
    "\n",
    "1. [The Jupyter project](http://jupyter.org/)\n",
    "2. [Documentation on Python 3 by Python Software foundation](https://docs.python.org)\n",
    "3. [Python 3 tutorial](https://docs.python.org/3/tutorial/index.html)\n",
    "4. [Python novice inflammation by Software Carpentry](http://swcarpentry.github.io/python-novice-inflammation/)\n",
    "5. Learning Python: Lutz, Ascher (O'Reilly '98)\n",
    "6. Python Essential Reference: Beazley (New Riders '99)\n",
    "7. Core Python Programming: Chun (Prentice-Hall '00)\n",
    "8. Programming Python, 2nd Ed.: Lutz (O'Reilly '01)"
   ]
  },
  {
   "cell_type": "markdown",
   "metadata": {
    "slideshow": {
     "slide_type": "fragment"
    }
   },
   "source": [
    "---------------\n",
    "Contact for this module: \n",
    "<br>\n",
    "Copyright UKRI STFC Hartree 2021\n",
    "\n"
   ]
  }
 ],
 "metadata": {
  "celltoolbar": "Slideshow",
  "kernelspec": {
   "display_name": "Python 3 (ipykernel)",
   "language": "python",
   "name": "python3"
  },
  "language_info": {
   "codemirror_mode": {
    "name": "ipython",
    "version": 3
   },
   "file_extension": ".py",
   "mimetype": "text/x-python",
   "name": "python",
   "nbconvert_exporter": "python",
   "pygments_lexer": "ipython3",
   "version": "3.9.6"
  }
 },
 "nbformat": 4,
 "nbformat_minor": 4
}
